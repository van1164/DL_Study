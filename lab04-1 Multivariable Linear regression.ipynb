{
 "cells": [
  {
   "cell_type": "code",
   "execution_count": 27,
   "metadata": {},
   "outputs": [],
   "source": [
    "import torch"
   ]
  },
  {
   "cell_type": "code",
   "execution_count": 44,
   "metadata": {},
   "outputs": [],
   "source": [
    "x_train = torch.FloatTensor([[73, 80, 75],\n",
    "                             [93, 88, 93],\n",
    "                             [89, 91, 90],\n",
    "                             [96, 98, 100],\n",
    "                             [73, 66, 70]])\n",
    "y_train = torch.FloatTensor([[152], [185], [180], [196], [142]])"
   ]
  },
  {
   "cell_type": "code",
   "execution_count": 29,
   "metadata": {},
   "outputs": [
    {
     "name": "stdout",
     "output_type": "stream",
     "text": [
      "torch.Size([5, 3])\n",
      "torch.Size([5, 1])\n"
     ]
    }
   ],
   "source": [
    "print(x_train.shape)\n",
    "print(y_train.shape)"
   ]
  },
  {
   "cell_type": "code",
   "execution_count": 49,
   "metadata": {},
   "outputs": [],
   "source": [
    "W = torch.zeros((3,1),requires_grad = True)\n",
    "b = torch.zeros(1,requires_grad = True)\n",
    "optimizer = torch.optim.SGD([W,b],lr =1e-5)\n",
    "\n",
    "nb_epochs = 20\n",
    "for epoch in range(nb_epochs+1):\n",
    "    h = x_train.matmul(W)+b\n",
    "    cost = torch.mean((h-y_train)**2)\n",
    "    optimizer.zero_grad()\n",
    "    cost.backward()\n",
    "    optimizer.step()"
   ]
  },
  {
   "cell_type": "markdown",
   "metadata": {},
   "source": [
    "# torch.nn 모듈 사용"
   ]
  },
  {
   "cell_type": "code",
   "execution_count": 48,
   "metadata": {},
   "outputs": [
    {
     "name": "stdout",
     "output_type": "stream",
     "text": [
      "tensor(14741.0186, grad_fn=<MseLossBackward0>)\n",
      "tensor(4621.8770, grad_fn=<MseLossBackward0>)\n",
      "tensor(1450.0632, grad_fn=<MseLossBackward0>)\n",
      "tensor(455.8670, grad_fn=<MseLossBackward0>)\n",
      "tensor(144.2386, grad_fn=<MseLossBackward0>)\n",
      "tensor(46.5597, grad_fn=<MseLossBackward0>)\n",
      "tensor(15.9418, grad_fn=<MseLossBackward0>)\n",
      "tensor(6.3443, grad_fn=<MseLossBackward0>)\n",
      "tensor(3.3354, grad_fn=<MseLossBackward0>)\n",
      "tensor(2.3919, grad_fn=<MseLossBackward0>)\n",
      "tensor(2.0956, grad_fn=<MseLossBackward0>)\n",
      "tensor(2.0022, grad_fn=<MseLossBackward0>)\n",
      "tensor(1.9724, grad_fn=<MseLossBackward0>)\n",
      "tensor(1.9626, grad_fn=<MseLossBackward0>)\n",
      "tensor(1.9590, grad_fn=<MseLossBackward0>)\n",
      "tensor(1.9574, grad_fn=<MseLossBackward0>)\n",
      "tensor(1.9564, grad_fn=<MseLossBackward0>)\n",
      "tensor(1.9556, grad_fn=<MseLossBackward0>)\n",
      "tensor(1.9548, grad_fn=<MseLossBackward0>)\n",
      "tensor(1.9541, grad_fn=<MseLossBackward0>)\n",
      "tensor(1.9533, grad_fn=<MseLossBackward0>)\n"
     ]
    }
   ],
   "source": [
    "import torch.nn as nn\n",
    "import torch.nn.functional as F\n",
    "class MultiLinearReg(nn.Module):\n",
    "    def __init__(self):\n",
    "        super().__init__()\n",
    "        self.linear = nn.Linear(3,1)\n",
    "        \n",
    "    def forward(self,x):\n",
    "        return self.linear(x)\n",
    "model = MultiLinearReg()\n",
    "W = torch.zeros((3,1),requires_grad = True)\n",
    "b = torch.zeros(1,requires_grad = True)\n",
    "optimizer = torch.optim.SGD(model.parameters(),lr =1e-5)\n",
    "\n",
    "nb_epochs = 20\n",
    "for epoch in range(nb_epochs+1):\n",
    "    h = model.forward(x_train)\n",
    "    cost = F.mse_loss(h,y_train)\n",
    "    print(cost)\n",
    "    optimizer.zero_grad()\n",
    "    cost.backward()\n",
    "    optimizer.step()"
   ]
  },
  {
   "cell_type": "code",
   "execution_count": null,
   "metadata": {},
   "outputs": [],
   "source": []
  }
 ],
 "metadata": {
  "kernelspec": {
   "display_name": "Python 3",
   "language": "python",
   "name": "python3"
  },
  "language_info": {
   "codemirror_mode": {
    "name": "ipython",
    "version": 3
   },
   "file_extension": ".py",
   "mimetype": "text/x-python",
   "name": "python",
   "nbconvert_exporter": "python",
   "pygments_lexer": "ipython3",
   "version": "3.7.4"
  }
 },
 "nbformat": 4,
 "nbformat_minor": 2
}
